{
 "cells": [
  {
   "cell_type": "code",
   "execution_count": 17,
   "id": "short-noise",
   "metadata": {},
   "outputs": [],
   "source": [
    "import tkinter"
   ]
  },
  {
   "cell_type": "code",
   "execution_count": 18,
   "id": "lesbian-doctrine",
   "metadata": {},
   "outputs": [
    {
     "data": {
      "text/plain": [
       "module"
      ]
     },
     "execution_count": 18,
     "metadata": {},
     "output_type": "execute_result"
    }
   ],
   "source": [
    "type(tkinter)"
   ]
  },
  {
   "cell_type": "code",
   "execution_count": 19,
   "id": "enclosed-raising",
   "metadata": {},
   "outputs": [],
   "source": [
    "from unittest.mock import MagicMock"
   ]
  },
  {
   "cell_type": "code",
   "execution_count": 20,
   "id": "alpha-source",
   "metadata": {},
   "outputs": [],
   "source": [
    "tkinter = MagicMock()"
   ]
  },
  {
   "cell_type": "code",
   "execution_count": 21,
   "id": "absolute-proposal",
   "metadata": {},
   "outputs": [
    {
     "data": {
      "text/plain": [
       "unittest.mock.MagicMock"
      ]
     },
     "execution_count": 21,
     "metadata": {},
     "output_type": "execute_result"
    }
   ],
   "source": [
    "type(tkinter)"
   ]
  },
  {
   "cell_type": "code",
   "execution_count": 22,
   "id": "suffering-coral",
   "metadata": {},
   "outputs": [],
   "source": [
    "sys.modules['tkinter'] = tkinter"
   ]
  },
  {
   "cell_type": "code",
   "execution_count": 23,
   "id": "explicit-wound",
   "metadata": {},
   "outputs": [],
   "source": [
    "import tkinter"
   ]
  },
  {
   "cell_type": "code",
   "execution_count": 24,
   "id": "viral-uganda",
   "metadata": {},
   "outputs": [
    {
     "data": {
      "text/plain": [
       "unittest.mock.MagicMock"
      ]
     },
     "execution_count": 24,
     "metadata": {},
     "output_type": "execute_result"
    }
   ],
   "source": [
    "type(tkinter)"
   ]
  },
  {
   "cell_type": "code",
   "execution_count": 4,
   "id": "small-reflection",
   "metadata": {},
   "outputs": [
    {
     "data": {
      "text/plain": [
       "<MagicMock name='mock.Tk()' id='4421763952'>"
      ]
     },
     "execution_count": 4,
     "metadata": {},
     "output_type": "execute_result"
    }
   ],
   "source": [
    "tkinter.Tk()"
   ]
  },
  {
   "cell_type": "code",
   "execution_count": 25,
   "id": "first-international",
   "metadata": {},
   "outputs": [],
   "source": [
    "gui = tkinter.Tk()"
   ]
  },
  {
   "cell_type": "code",
   "execution_count": 26,
   "id": "everyday-powder",
   "metadata": {},
   "outputs": [
    {
     "data": {
      "text/plain": [
       "<MagicMock name='mock.Tk().geometry()' id='4425389056'>"
      ]
     },
     "execution_count": 26,
     "metadata": {},
     "output_type": "execute_result"
    }
   ],
   "source": [
    "gui.geometry(\"100x100\")"
   ]
  },
  {
   "cell_type": "code",
   "execution_count": 27,
   "id": "velvet-prayer",
   "metadata": {},
   "outputs": [],
   "source": [
    "gui.geometry.assert_called_once()"
   ]
  },
  {
   "cell_type": "code",
   "execution_count": 28,
   "id": "sporting-picture",
   "metadata": {},
   "outputs": [],
   "source": [
    "tkinter.Tk().geometry.assert_called_once()"
   ]
  },
  {
   "cell_type": "code",
   "execution_count": 29,
   "id": "piano-trace",
   "metadata": {},
   "outputs": [],
   "source": [
    "tkinter.Tk().geometry.assert_called_with(\"100x100\")"
   ]
  },
  {
   "cell_type": "code",
   "execution_count": null,
   "id": "rotary-finnish",
   "metadata": {},
   "outputs": [],
   "source": []
  }
 ],
 "metadata": {
  "kernelspec": {
   "display_name": "Python 3",
   "language": "python",
   "name": "python3"
  },
  "language_info": {
   "codemirror_mode": {
    "name": "ipython",
    "version": 3
   },
   "file_extension": ".py",
   "mimetype": "text/x-python",
   "name": "python",
   "nbconvert_exporter": "python",
   "pygments_lexer": "ipython3",
   "version": "3.9.1"
  }
 },
 "nbformat": 4,
 "nbformat_minor": 5
}
