{
 "cells": [
  {
   "cell_type": "code",
   "execution_count": 19,
   "id": "atmospheric-empty",
   "metadata": {},
   "outputs": [],
   "source": [
    "from unittest.mock import Mock"
   ]
  },
  {
   "cell_type": "code",
   "execution_count": 22,
   "id": "amended-recipe",
   "metadata": {},
   "outputs": [],
   "source": [
    "tkinter = Mock()"
   ]
  },
  {
   "cell_type": "code",
   "execution_count": 23,
   "id": "greater-monaco",
   "metadata": {},
   "outputs": [
    {
     "data": {
      "text/plain": [
       "<MagicMock name='mock.Tk' id='4562043424'>"
      ]
     },
     "execution_count": 23,
     "metadata": {},
     "output_type": "execute_result"
    }
   ],
   "source": [
    "tkinter.Tk"
   ]
  },
  {
   "cell_type": "code",
   "execution_count": 26,
   "id": "touched-portfolio",
   "metadata": {},
   "outputs": [
    {
     "data": {
      "text/plain": [
       "unittest.mock.MagicMock"
      ]
     },
     "execution_count": 26,
     "metadata": {},
     "output_type": "execute_result"
    }
   ],
   "source": [
    "type(tkinter.Tk())"
   ]
  },
  {
   "cell_type": "code",
   "execution_count": 27,
   "id": "informed-marketing",
   "metadata": {},
   "outputs": [],
   "source": [
    "gui = tkinter.Tk()"
   ]
  },
  {
   "cell_type": "code",
   "execution_count": null,
   "id": "incorporate-waters",
   "metadata": {},
   "outputs": [],
   "source": []
  },
  {
   "cell_type": "code",
   "execution_count": null,
   "id": "sunset-airport",
   "metadata": {},
   "outputs": [],
   "source": []
  }
 ],
 "metadata": {
  "kernelspec": {
   "display_name": "Python 3",
   "language": "python",
   "name": "python3"
  },
  "language_info": {
   "codemirror_mode": {
    "name": "ipython",
    "version": 3
   },
   "file_extension": ".py",
   "mimetype": "text/x-python",
   "name": "python",
   "nbconvert_exporter": "python",
   "pygments_lexer": "ipython3",
   "version": "3.9.1"
  }
 },
 "nbformat": 4,
 "nbformat_minor": 5
}
